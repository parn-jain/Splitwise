{
 "cells": [
  {
   "cell_type": "code",
   "execution_count": 1,
   "id": "e2bfda29",
   "metadata": {},
   "outputs": [],
   "source": [
    "# number of friends ko add kerna hay dinamically                                         \n",
    "# kharche ka tile likhker kisne kharcha kiya or kis kis ke beech split kerna hay vo likhna hay \n",
    "# agar A ko B and C se 5 - 5 rupay lene hay, and B ko A se 5 rupay lena hay to finally sab kat putke\n",
    "# A ko kewak C se 5 rupay lena hay wala hisab \n",
    "\n",
    "# har user ke andar 2 data aayenge, to take and to give therefore we can use dictionary, dictonary with the name of person"
   ]
  },
  {
   "cell_type": "code",
   "execution_count": 2,
   "id": "d59da643",
   "metadata": {},
   "outputs": [
    {
     "name": "stdout",
     "output_type": "stream",
     "text": [
      "Enter the total no of candidates3\n",
      "enter name of eachparn\n",
      "enter name of eachraghu\n",
      "enter name of eachdagar\n",
      "enter the amout paid34\n",
      "Person who paid the amountparn\n",
      "Persons between bill will be splitedparn raghu sagar\n"
     ]
    },
    {
     "ename": "KeyError",
     "evalue": "'sagar'",
     "output_type": "error",
     "traceback": [
      "\u001b[1;31m---------------------------------------------------------------------------\u001b[0m",
      "\u001b[1;31mKeyError\u001b[0m                                  Traceback (most recent call last)",
      "File \u001b[1;32mC:\\Python compiler\\lib\\site-packages\\pandas\\core\\indexes\\base.py:3802\u001b[0m, in \u001b[0;36mIndex.get_loc\u001b[1;34m(self, key, method, tolerance)\u001b[0m\n\u001b[0;32m   3801\u001b[0m \u001b[38;5;28;01mtry\u001b[39;00m:\n\u001b[1;32m-> 3802\u001b[0m     \u001b[38;5;28;01mreturn\u001b[39;00m \u001b[38;5;28;43mself\u001b[39;49m\u001b[38;5;241;43m.\u001b[39;49m\u001b[43m_engine\u001b[49m\u001b[38;5;241;43m.\u001b[39;49m\u001b[43mget_loc\u001b[49m\u001b[43m(\u001b[49m\u001b[43mcasted_key\u001b[49m\u001b[43m)\u001b[49m\n\u001b[0;32m   3803\u001b[0m \u001b[38;5;28;01mexcept\u001b[39;00m \u001b[38;5;167;01mKeyError\u001b[39;00m \u001b[38;5;28;01mas\u001b[39;00m err:\n",
      "File \u001b[1;32mC:\\Python compiler\\lib\\site-packages\\pandas\\_libs\\index.pyx:138\u001b[0m, in \u001b[0;36mpandas._libs.index.IndexEngine.get_loc\u001b[1;34m()\u001b[0m\n",
      "File \u001b[1;32mC:\\Python compiler\\lib\\site-packages\\pandas\\_libs\\index.pyx:165\u001b[0m, in \u001b[0;36mpandas._libs.index.IndexEngine.get_loc\u001b[1;34m()\u001b[0m\n",
      "File \u001b[1;32mpandas\\_libs\\hashtable_class_helper.pxi:5745\u001b[0m, in \u001b[0;36mpandas._libs.hashtable.PyObjectHashTable.get_item\u001b[1;34m()\u001b[0m\n",
      "File \u001b[1;32mpandas\\_libs\\hashtable_class_helper.pxi:5753\u001b[0m, in \u001b[0;36mpandas._libs.hashtable.PyObjectHashTable.get_item\u001b[1;34m()\u001b[0m\n",
      "\u001b[1;31mKeyError\u001b[0m: 'sagar'",
      "\nThe above exception was the direct cause of the following exception:\n",
      "\u001b[1;31mKeyError\u001b[0m                                  Traceback (most recent call last)",
      "Cell \u001b[1;32mIn[2], line 24\u001b[0m\n\u001b[0;32m     20\u001b[0m         \u001b[38;5;28;01mfor\u001b[39;00m i \u001b[38;5;129;01min\u001b[39;00m s:\n\u001b[0;32m     21\u001b[0m             df[i][by] \u001b[38;5;241m=\u001b[39m amt\u001b[38;5;241m/\u001b[39m\u001b[38;5;28mlen\u001b[39m(s)\n\u001b[1;32m---> 24\u001b[0m \u001b[43mmain\u001b[49m\u001b[43m(\u001b[49m\u001b[43m)\u001b[49m\n",
      "Cell \u001b[1;32mIn[2], line 21\u001b[0m, in \u001b[0;36mmain\u001b[1;34m()\u001b[0m\n\u001b[0;32m     19\u001b[0m s \u001b[38;5;241m=\u001b[39m bw\u001b[38;5;241m.\u001b[39msplit(\u001b[38;5;124m'\u001b[39m\u001b[38;5;124m \u001b[39m\u001b[38;5;124m'\u001b[39m)\n\u001b[0;32m     20\u001b[0m \u001b[38;5;28;01mfor\u001b[39;00m i \u001b[38;5;129;01min\u001b[39;00m s:\n\u001b[1;32m---> 21\u001b[0m     \u001b[43mdf\u001b[49m\u001b[43m[\u001b[49m\u001b[43mi\u001b[49m\u001b[43m]\u001b[49m[by] \u001b[38;5;241m=\u001b[39m amt\u001b[38;5;241m/\u001b[39m\u001b[38;5;28mlen\u001b[39m(s)\n",
      "File \u001b[1;32mC:\\Python compiler\\lib\\site-packages\\pandas\\core\\frame.py:3807\u001b[0m, in \u001b[0;36mDataFrame.__getitem__\u001b[1;34m(self, key)\u001b[0m\n\u001b[0;32m   3805\u001b[0m \u001b[38;5;28;01mif\u001b[39;00m \u001b[38;5;28mself\u001b[39m\u001b[38;5;241m.\u001b[39mcolumns\u001b[38;5;241m.\u001b[39mnlevels \u001b[38;5;241m>\u001b[39m \u001b[38;5;241m1\u001b[39m:\n\u001b[0;32m   3806\u001b[0m     \u001b[38;5;28;01mreturn\u001b[39;00m \u001b[38;5;28mself\u001b[39m\u001b[38;5;241m.\u001b[39m_getitem_multilevel(key)\n\u001b[1;32m-> 3807\u001b[0m indexer \u001b[38;5;241m=\u001b[39m \u001b[38;5;28;43mself\u001b[39;49m\u001b[38;5;241;43m.\u001b[39;49m\u001b[43mcolumns\u001b[49m\u001b[38;5;241;43m.\u001b[39;49m\u001b[43mget_loc\u001b[49m\u001b[43m(\u001b[49m\u001b[43mkey\u001b[49m\u001b[43m)\u001b[49m\n\u001b[0;32m   3808\u001b[0m \u001b[38;5;28;01mif\u001b[39;00m is_integer(indexer):\n\u001b[0;32m   3809\u001b[0m     indexer \u001b[38;5;241m=\u001b[39m [indexer]\n",
      "File \u001b[1;32mC:\\Python compiler\\lib\\site-packages\\pandas\\core\\indexes\\base.py:3804\u001b[0m, in \u001b[0;36mIndex.get_loc\u001b[1;34m(self, key, method, tolerance)\u001b[0m\n\u001b[0;32m   3802\u001b[0m     \u001b[38;5;28;01mreturn\u001b[39;00m \u001b[38;5;28mself\u001b[39m\u001b[38;5;241m.\u001b[39m_engine\u001b[38;5;241m.\u001b[39mget_loc(casted_key)\n\u001b[0;32m   3803\u001b[0m \u001b[38;5;28;01mexcept\u001b[39;00m \u001b[38;5;167;01mKeyError\u001b[39;00m \u001b[38;5;28;01mas\u001b[39;00m err:\n\u001b[1;32m-> 3804\u001b[0m     \u001b[38;5;28;01mraise\u001b[39;00m \u001b[38;5;167;01mKeyError\u001b[39;00m(key) \u001b[38;5;28;01mfrom\u001b[39;00m \u001b[38;5;21;01merr\u001b[39;00m\n\u001b[0;32m   3805\u001b[0m \u001b[38;5;28;01mexcept\u001b[39;00m \u001b[38;5;167;01mTypeError\u001b[39;00m:\n\u001b[0;32m   3806\u001b[0m     \u001b[38;5;66;03m# If we have a listlike key, _check_indexing_error will raise\u001b[39;00m\n\u001b[0;32m   3807\u001b[0m     \u001b[38;5;66;03m#  InvalidIndexError. Otherwise we fall through and re-raise\u001b[39;00m\n\u001b[0;32m   3808\u001b[0m     \u001b[38;5;66;03m#  the TypeError.\u001b[39;00m\n\u001b[0;32m   3809\u001b[0m     \u001b[38;5;28mself\u001b[39m\u001b[38;5;241m.\u001b[39m_check_indexing_error(key)\n",
      "\u001b[1;31mKeyError\u001b[0m: 'sagar'"
     ]
    }
   ],
   "source": [
    "import pandas as pd\n",
    "n = int(input('Enter the total no of candidates'))\n",
    "l = []\n",
    "while n!=0:\n",
    "    x = input('enter name of each')\n",
    "    l.append(x)\n",
    "    n = n-1\n",
    "df = pd.DataFrame(columns = l,index = l)\n",
    "df\n",
    "\n",
    "\n",
    "def main():\n",
    "    amt = int(input('enter the amout paid'))\n",
    "    by = input('Person who paid the amount')\n",
    "    bw = input('Persons between bill will be splited')\n",
    "    if(bw=='All'):\n",
    "        df.loc[by] = amt/3\n",
    "    else:\n",
    "        s = bw.split(' ')\n",
    "        for i in s:\n",
    "            df[i][by] = amt/len(s)\n",
    "        \n",
    "    \n",
    "main()"
   ]
  },
  {
   "cell_type": "code",
   "execution_count": 4,
   "id": "6f7122d7",
   "metadata": {
    "scrolled": true
   },
   "outputs": [
    {
     "name": "stdout",
     "output_type": "stream",
     "text": [
      "Parn is balanced with Parn\n",
      "Raghu have to take2 from Parn\n",
      "Sagar have to take4 from Parn\n",
      "Raghu have to take2 from Parn\n",
      "Raghu is balanced with Raghu\n",
      "Sagar have to take2 from Raghu\n",
      "Sagar have to take4 from Parn\n",
      "Sagar have to take2 from Raghu\n",
      "Sagar is balanced with Sagar\n"
     ]
    }
   ],
   "source": [
    "# df['parn']['sagar'] = 45\n",
    "# df\n",
    "# df.loc['parn']=5\n",
    "\n",
    "\n",
    "# bw = 'asdf sdf'\n",
    "# s = bw.split(' ')\n",
    "# s\n",
    "# df.iloc[0][df.index[1]]\n",
    "# df\n",
    "import pandas as pd\n",
    "l = ['Parn','Raghu','Sagar']\n",
    "newdf = pd.read_csv(r'BillSplitter.csv')\n",
    "df = newdf.set_index([l])\n",
    "\n",
    "def final(df):\n",
    "    for i in range(0,len(l)):\n",
    "        for j in range(0,len(l)):\n",
    "            if(df.iloc[i][df.index[j]]>df.iloc[j][df.index[i]]):\n",
    "                print(f'{df.index[i]} have to take{(df.iloc[i][df.index[j]])-(df.iloc[j][df.index[i]])} from {df.index[j]}')\n",
    "            elif(df.iloc[i][df.index[j]]<df.iloc[j][df.index[i]]):\n",
    "                print(f'{df.index[j]} have to take{(df.iloc[j][df.index[i]])-(df.iloc[i][df.index[j]])} from {df.index[i]}')\n",
    "            else:\n",
    "                print(f'{df.index[i]} is balanced with {df.index[j]}')\n",
    "final(df)"
   ]
  },
  {
   "cell_type": "code",
   "execution_count": null,
   "id": "1ebc9f0c",
   "metadata": {},
   "outputs": [],
   "source": [
    "# l = ['Parn','Raghu','Sagar']\n",
    "# ndf = pd.DataFrame(columns = l,index = l)\n",
    "# ndf.to_csv('BillSplitter.csv',index = False)\n",
    "# k = pd.read_csv(r'BillSplitter.csv')\n",
    "# t = k.set_index([l])\n",
    "# k\n",
    "# k\n",
    "df.to_csv('BillSplitter.csv',index = False)\n",
    "# k = \n",
    "Raghu have to take2 from Parn\n",
    "Sagar have to take4 from Parn\n",
    "Sagar have to take2 from Raghu"
   ]
  },
  {
   "cell_type": "code",
   "execution_count": null,
   "id": "186f2a08",
   "metadata": {},
   "outputs": [],
   "source": [
    "l"
   ]
  },
  {
   "cell_type": "code",
   "execution_count": null,
   "id": "a95656e0",
   "metadata": {},
   "outputs": [],
   "source": [
    "for i in range(0,len(l)):\n",
    "        for j in range(0,len(l)):\n",
    "            if(df.iloc[i][df.index[j]]>df.iloc[j][df.index[i]]):\n",
    "                print(f'{df.index[i]} have to take{(df.iloc[i][df.index[j]])-(df.iloc[j][df.index[i]])} from {df.index[j]}')\n",
    "            elif(df.iloc[i][df.index[j]]<df.iloc[j][df.index[i]]):\n",
    "                print(f'{df.index[j]} have to take{(df.iloc[j][df.index[i]])-(df.iloc[i][df.index[j]])} from {df.index[i]}')\n",
    "            else:\n",
    "                print(f'{df.index[i]} is balanced with {df.index[j]}')"
   ]
  },
  {
   "cell_type": "code",
   "execution_count": 3,
   "id": "43e2a322",
   "metadata": {},
   "outputs": [
    {
     "data": {
      "text/html": [
       "<div>\n",
       "<style scoped>\n",
       "    .dataframe tbody tr th:only-of-type {\n",
       "        vertical-align: middle;\n",
       "    }\n",
       "\n",
       "    .dataframe tbody tr th {\n",
       "        vertical-align: top;\n",
       "    }\n",
       "\n",
       "    .dataframe thead th {\n",
       "        text-align: right;\n",
       "    }\n",
       "</style>\n",
       "<table border=\"1\" class=\"dataframe\">\n",
       "  <thead>\n",
       "    <tr style=\"text-align: right;\">\n",
       "      <th></th>\n",
       "      <th>parn</th>\n",
       "      <th>raghu</th>\n",
       "      <th>dagar</th>\n",
       "    </tr>\n",
       "  </thead>\n",
       "  <tbody>\n",
       "    <tr>\n",
       "      <th>parn</th>\n",
       "      <td>11.333333</td>\n",
       "      <td>11.333333</td>\n",
       "      <td>NaN</td>\n",
       "    </tr>\n",
       "    <tr>\n",
       "      <th>raghu</th>\n",
       "      <td>NaN</td>\n",
       "      <td>NaN</td>\n",
       "      <td>NaN</td>\n",
       "    </tr>\n",
       "    <tr>\n",
       "      <th>dagar</th>\n",
       "      <td>NaN</td>\n",
       "      <td>NaN</td>\n",
       "      <td>NaN</td>\n",
       "    </tr>\n",
       "  </tbody>\n",
       "</table>\n",
       "</div>"
      ],
      "text/plain": [
       "            parn      raghu dagar\n",
       "parn   11.333333  11.333333   NaN\n",
       "raghu        NaN        NaN   NaN\n",
       "dagar        NaN        NaN   NaN"
      ]
     },
     "execution_count": 3,
     "metadata": {},
     "output_type": "execute_result"
    }
   ],
   "source": []
  },
  {
   "cell_type": "code",
   "execution_count": null,
   "id": "f9db2b21",
   "metadata": {},
   "outputs": [],
   "source": []
  }
 ],
 "metadata": {
  "kernelspec": {
   "display_name": "Python 3 (ipykernel)",
   "language": "python",
   "name": "python3"
  },
  "language_info": {
   "codemirror_mode": {
    "name": "ipython",
    "version": 3
   },
   "file_extension": ".py",
   "mimetype": "text/x-python",
   "name": "python",
   "nbconvert_exporter": "python",
   "pygments_lexer": "ipython3",
   "version": "3.10.5"
  }
 },
 "nbformat": 4,
 "nbformat_minor": 5
}

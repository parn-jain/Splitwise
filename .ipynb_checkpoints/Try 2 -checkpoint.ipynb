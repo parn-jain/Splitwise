{
 "cells": [
  {
   "cell_type": "code",
   "execution_count": 1,
   "id": "187e9eb2",
   "metadata": {},
   "outputs": [],
   "source": [
    "import pandas as pd\n",
    "import numpy as np"
   ]
  },
  {
   "cell_type": "code",
   "execution_count": 2,
   "id": "f5b0c6ae",
   "metadata": {},
   "outputs": [
    {
     "name": "stdout",
     "output_type": "stream",
     "text": [
      "enter the total no of users3\n",
      "Enter name of usersra\n",
      "Enter name of userspa\n",
      "Enter name of userssa\n"
     ]
    },
    {
     "data": {
      "text/plain": [
       "['ra', 'pa', 'sa']"
      ]
     },
     "execution_count": 2,
     "metadata": {},
     "output_type": "execute_result"
    }
   ],
   "source": [
    "n = int(input('enter the total no of users'))\n",
    "l = []\n",
    "while n!=0:\n",
    "    name = input('Enter name of users')\n",
    "    l.append(name)\n",
    "    n = n-1\n",
    "\n",
    "l2 = list(range(len(l)))\n",
    "data = pd.DataFrame(columns = l, index = l)\n",
    "data.replace({np.NaN:0},inplace = True)\n",
    "data\n",
    "l\n",
    "\n",
    "\n",
    "\n",
    "try:\n",
    "    k = pd.read_csv(r'userData.csv')\n",
    "except:\n",
    "    df.to_csv('userData.csv',index = False)\n",
    "    k = pd.read_csv(r'userData.csv')\n",
    "\n",
    "\n"
   ]
  },
  {
   "cell_type": "code",
   "execution_count": null,
   "id": "9a90c2d7",
   "metadata": {},
   "outputs": [],
   "source": [
    "### def datainput(l):\n",
    "# n =int(input('Enter the amount'))\n",
    "flag = True\n",
    "\n",
    "while flag:\n",
    "    flag2 = True\n",
    "    n =int(input('Enter the amount'))\n",
    "    paidby = input('person who paid')\n",
    "    if(paidby not in l):\n",
    "        print('Enter the correct name')\n",
    "        continue\n",
    "    while flag2:\n",
    "        names = input('bill to be splited between space seperated names')\n",
    "        names1 = names.split(' ')\n",
    "        if all(x in l for x in names1):\n",
    "            flag2 = False\n",
    "        else:\n",
    "            print('incorrect names')\n",
    "            continue\n",
    "        nl = names.split(' ')\n",
    "    shares = n/len(names1)\n",
    "    for i in names1:\n",
    "        data.loc[i,paidby] = data.loc[i,paidby] + shares\n",
    "        data.loc[paidby,i] = data.loc[paidby,i] - shares\n",
    "    more = input('do you want to add more payments type \"yes\" or \"no\"')\n",
    "    if(more=='yes'):\n",
    "        continue\n",
    "    else:\n",
    "        if (data != 0).any().any():\n",
    "            for i in names1:\n",
    "                for j in names1:\n",
    "                    if data.loc[i, j] > 0:\n",
    "                        print(f'{j} have to take {data.loc[i, j]} from {i}')\n",
    "        else:\n",
    "            print(\"Everything is clear!\")\n",
    "        flag = False\n",
    "print(nl)"
   ]
  },
  {
   "cell_type": "code",
   "execution_count": 4,
   "id": "2c3c3d07",
   "metadata": {},
   "outputs": [
    {
     "data": {
      "text/plain": [
       "1.5"
      ]
     },
     "execution_count": 4,
     "metadata": {},
     "output_type": "execute_result"
    }
   ],
   "source": [
    "data\n",
    "n/len(names)"
   ]
  },
  {
   "cell_type": "code",
   "execution_count": 8,
   "id": "609e35c8",
   "metadata": {},
   "outputs": [
    {
     "data": {
      "text/html": [
       "<div>\n",
       "<style scoped>\n",
       "    .dataframe tbody tr th:only-of-type {\n",
       "        vertical-align: middle;\n",
       "    }\n",
       "\n",
       "    .dataframe tbody tr th {\n",
       "        vertical-align: top;\n",
       "    }\n",
       "\n",
       "    .dataframe thead th {\n",
       "        text-align: right;\n",
       "    }\n",
       "</style>\n",
       "<table border=\"1\" class=\"dataframe\">\n",
       "  <thead>\n",
       "    <tr style=\"text-align: right;\">\n",
       "      <th></th>\n",
       "      <th>ra</th>\n",
       "      <th>pa</th>\n",
       "      <th>sa</th>\n",
       "    </tr>\n",
       "  </thead>\n",
       "  <tbody>\n",
       "    <tr>\n",
       "      <th>ra</th>\n",
       "      <td>0</td>\n",
       "      <td>-4</td>\n",
       "      <td>-4</td>\n",
       "    </tr>\n",
       "    <tr>\n",
       "      <th>pa</th>\n",
       "      <td>4</td>\n",
       "      <td>0</td>\n",
       "      <td>0</td>\n",
       "    </tr>\n",
       "    <tr>\n",
       "      <th>sa</th>\n",
       "      <td>4</td>\n",
       "      <td>0</td>\n",
       "      <td>0</td>\n",
       "    </tr>\n",
       "  </tbody>\n",
       "</table>\n",
       "</div>"
      ],
      "text/plain": [
       "    ra  pa  sa\n",
       "ra   0  -4  -4\n",
       "pa   4   0   0\n",
       "sa   4   0   0"
      ]
     },
     "execution_count": 8,
     "metadata": {},
     "output_type": "execute_result"
    }
   ],
   "source": [
    "data"
   ]
  },
  {
   "cell_type": "code",
   "execution_count": 12,
   "id": "68579639",
   "metadata": {},
   "outputs": [
    {
     "data": {
      "text/plain": [
       "True"
      ]
     },
     "execution_count": 12,
     "metadata": {},
     "output_type": "execute_result"
    }
   ],
   "source": [
    "(data!=0).any().any()"
   ]
  },
  {
   "cell_type": "code",
   "execution_count": null,
   "id": "73da4d77",
   "metadata": {},
   "outputs": [],
   "source": []
  }
 ],
 "metadata": {
  "kernelspec": {
   "display_name": "Python 3 (ipykernel)",
   "language": "python",
   "name": "python3"
  },
  "language_info": {
   "codemirror_mode": {
    "name": "ipython",
    "version": 3
   },
   "file_extension": ".py",
   "mimetype": "text/x-python",
   "name": "python",
   "nbconvert_exporter": "python",
   "pygments_lexer": "ipython3",
   "version": "3.10.5"
  }
 },
 "nbformat": 4,
 "nbformat_minor": 5
}

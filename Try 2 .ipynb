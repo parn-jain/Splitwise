{
 "cells": [
  {
   "cell_type": "code",
   "execution_count": 1,
   "id": "187e9eb2",
   "metadata": {},
   "outputs": [],
   "source": [
    "import pandas as pd\n",
    "import numpy as np"
   ]
  },
  {
   "cell_type": "code",
   "execution_count": 2,
   "id": "f5b0c6ae",
   "metadata": {},
   "outputs": [
    {
     "name": "stdout",
     "output_type": "stream",
     "text": [
      "enter the total no of users3\n",
      "Enter name of usersRubin\n",
      "Enter name of usersShan\n",
      "Enter name of usersParn\n"
     ]
    },
    {
     "data": {
      "text/html": [
       "<div>\n",
       "<style scoped>\n",
       "    .dataframe tbody tr th:only-of-type {\n",
       "        vertical-align: middle;\n",
       "    }\n",
       "\n",
       "    .dataframe tbody tr th {\n",
       "        vertical-align: top;\n",
       "    }\n",
       "\n",
       "    .dataframe thead th {\n",
       "        text-align: right;\n",
       "    }\n",
       "</style>\n",
       "<table border=\"1\" class=\"dataframe\">\n",
       "  <thead>\n",
       "    <tr style=\"text-align: right;\">\n",
       "      <th></th>\n",
       "      <th>Rubin</th>\n",
       "      <th>Shan</th>\n",
       "      <th>Parn</th>\n",
       "    </tr>\n",
       "  </thead>\n",
       "  <tbody>\n",
       "    <tr>\n",
       "      <th>Rubin</th>\n",
       "      <td>0</td>\n",
       "      <td>0</td>\n",
       "      <td>0</td>\n",
       "    </tr>\n",
       "    <tr>\n",
       "      <th>Shan</th>\n",
       "      <td>0</td>\n",
       "      <td>0</td>\n",
       "      <td>0</td>\n",
       "    </tr>\n",
       "    <tr>\n",
       "      <th>Parn</th>\n",
       "      <td>0</td>\n",
       "      <td>0</td>\n",
       "      <td>0</td>\n",
       "    </tr>\n",
       "  </tbody>\n",
       "</table>\n",
       "</div>"
      ],
      "text/plain": [
       "       Rubin  Shan  Parn\n",
       "Rubin      0     0     0\n",
       "Shan       0     0     0\n",
       "Parn       0     0     0"
      ]
     },
     "execution_count": 2,
     "metadata": {},
     "output_type": "execute_result"
    }
   ],
   "source": [
    "n = int(input('enter the total no of users'))\n",
    "l = []\n",
    "while n!=0:\n",
    "    name = input('Enter name of users')\n",
    "    l.append(name)\n",
    "    n = n-1\n",
    "\n",
    "l2 = list(range(len(l)))\n",
    "data = pd.DataFrame(columns = l, index = l)\n",
    "data.replace({np.NaN:0},inplace = True)\n",
    "data\n",
    "# data.to_csv('userData.csv',index = False)\n",
    "# data = pd.read_csv(r'userData.csv')"
   ]
  },
  {
   "cell_type": "code",
   "execution_count": 3,
   "id": "9a90c2d7",
   "metadata": {},
   "outputs": [
    {
     "name": "stdout",
     "output_type": "stream",
     "text": [
      "Enter the amount20\n",
      "person who paidShan\n",
      "bill to be splited between space seperated namesRubin\n",
      "do you want to add more payments type \"yes\" or \"no\"yes\n",
      "Enter the amount20\n",
      "person who paidParn\n",
      "bill to be splited between space seperated namesShan\n",
      "do you want to add more payments type \"yes\" or \"no\"no\n",
      "Shan have to take 20 from Rubin\n",
      "Parn have to take 20 from Shan\n",
      "['Shan']\n"
     ]
    }
   ],
   "source": [
    "### def datainput(l):\n",
    "# n =int(input('Enter the amount'))\n",
    "flag = True\n",
    "names1 = []\n",
    "while flag:\n",
    "    flag2 = True\n",
    "    n =int(input('Enter the amount'))\n",
    "    paidby = input('person who paid')\n",
    "    if(paidby not in l):\n",
    "        print('Enter the correct name')\n",
    "        continue\n",
    "    while flag2:\n",
    "        names = input('bill to be splited between space seperated names')\n",
    "        names1 = names.split(' ')\n",
    "        if all(x in l for x in names1):\n",
    "            flag2 = False\n",
    "        else:\n",
    "            print('incorrect names')\n",
    "            continue\n",
    "        nl = names.split(' ')\n",
    "    shares = n/len(names1)\n",
    "    for i in names1:\n",
    "        data.loc[i,paidby] = data.loc[i,paidby] + shares\n",
    "        data.loc[paidby,i] = data.loc[paidby,i] - shares\n",
    "    more = input('do you want to add more payments type \"yes\" or \"no\"')\n",
    "    if(more=='yes'):\n",
    "        continue\n",
    "    else:\n",
    "#         print('hello world')\n",
    "        if ((data != 0).any().any()):\n",
    "#             print('hello again')\n",
    "            for i in l:\n",
    "                for j in l:\n",
    "                    if data.loc[i, j] > 0:\n",
    "                        print(f'{j} have to take {data.loc[i, j]} from {i}')\n",
    "        else:\n",
    "            print(\"Everything is clear!\")\n",
    "        flag = False\n",
    "# data.to_csv('userData.csv')\n",
    "print(nl)"
   ]
  },
  {
   "cell_type": "code",
   "execution_count": null,
   "id": "0216a587",
   "metadata": {},
   "outputs": [],
   "source": [
    "import pandas as pd\n",
    "\n",
    "# Assuming you have a DataFrame named 'data' initialized before this code\n",
    "# data = pd.DataFrame(index=l, columns=l, data=0)\n",
    "\n",
    "def datainput(l):\n",
    "    flag = True\n",
    "    transactions = {}  # Dictionary to store transactions\n",
    "    while flag:\n",
    "        flag2 = True\n",
    "        n = int(input('Enter the amount: '))\n",
    "        paidby = input('Person who paid: ')\n",
    "        if paidby not in l:\n",
    "            print('Enter the correct name')\n",
    "            continue\n",
    "        while flag2:\n",
    "            names = input('Bill to be split between space-separated names: ')\n",
    "            names1 = names.split(' ')\n",
    "            if all(x in l for x in names1):\n",
    "                flag2 = False\n",
    "            else:\n",
    "                print('Incorrect names')\n",
    "                continue\n",
    "        shares = n / len(names1)\n",
    "        for i in names1:\n",
    "            if i != paidby:\n",
    "                key = tuple(sorted([paidby, i]))\n",
    "                transactions[key] = transactions.get(key, 0) + shares\n",
    "\n",
    "        more = input('Do you want to add more payments? Type \"yes\" or \"no\": ')\n",
    "        if more == 'yes':\n",
    "            continue\n",
    "        else:\n",
    "            print('Settlements:')\n",
    "            for (payer, receiver), amount in transactions.items():\n",
    "                print(f'{receiver} has to pay {amount} to {payer}')\n",
    "            flag = False\n",
    "\n",
    "# # Example usage\n",
    "# l = ['Rubin', 'Shan', 'Parn']\n",
    "# data = pd.DataFrame(index=l, columns=l, data=0)\n",
    "\n",
    "datainput(l)\n"
   ]
  },
  {
   "cell_type": "code",
   "execution_count": null,
   "id": "311da8f7",
   "metadata": {},
   "outputs": [],
   "source": [
    "data"
   ]
  },
  {
   "cell_type": "code",
   "execution_count": null,
   "id": "2c3c3d07",
   "metadata": {},
   "outputs": [],
   "source": [
    "data\n",
    "n/len(names)"
   ]
  },
  {
   "cell_type": "code",
   "execution_count": null,
   "id": "609e35c8",
   "metadata": {},
   "outputs": [],
   "source": [
    "data"
   ]
  },
  {
   "cell_type": "code",
   "execution_count": null,
   "id": "68579639",
   "metadata": {},
   "outputs": [],
   "source": [
    "(data!=0).any().any()"
   ]
  },
  {
   "cell_type": "code",
   "execution_count": null,
   "id": "73da4d77",
   "metadata": {},
   "outputs": [],
   "source": [
    "data"
   ]
  },
  {
   "cell_type": "code",
   "execution_count": null,
   "id": "4639b1b5",
   "metadata": {},
   "outputs": [],
   "source": [
    "data"
   ]
  },
  {
   "cell_type": "code",
   "execution_count": null,
   "id": "1065d330",
   "metadata": {},
   "outputs": [],
   "source": [
    "(data != 0).any().any()"
   ]
  },
  {
   "cell_type": "code",
   "execution_count": null,
   "id": "71f81084",
   "metadata": {},
   "outputs": [],
   "source": [
    "(data != 0).any().any()"
   ]
  },
  {
   "cell_type": "code",
   "execution_count": null,
   "id": "cd3baa1d",
   "metadata": {},
   "outputs": [],
   "source": [
    "l"
   ]
  }
 ],
 "metadata": {
  "kernelspec": {
   "display_name": "Python 3 (ipykernel)",
   "language": "python",
   "name": "python3"
  },
  "language_info": {
   "codemirror_mode": {
    "name": "ipython",
    "version": 3
   },
   "file_extension": ".py",
   "mimetype": "text/x-python",
   "name": "python",
   "nbconvert_exporter": "python",
   "pygments_lexer": "ipython3",
   "version": "3.10.5"
  }
 },
 "nbformat": 4,
 "nbformat_minor": 5
}
